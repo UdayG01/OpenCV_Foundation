{
 "cells": [
  {
   "cell_type": "code",
   "execution_count": 3,
   "metadata": {},
   "outputs": [],
   "source": [
    "import cv2\n",
    "import numpy as np\n",
    "\n",
    "# Load the image\n",
    "img = cv2.imread(r'.\\images\\eagle.jpg')\n",
    "\n",
    "# Create a mask image of the same size as the input image\n",
    "mask = np.zeros(img.shape[:2], np.uint8)\n",
    "\n",
    "# Define the rectangle ROI for the object to be segmented\n",
    "rect = (50, 50, 450, 290)  # (x, y, width, height) of the rectangle ROI\n",
    "\n",
    "# Initialize background and foreground models\n",
    "bgd_model = np.zeros((1, 65), np.float64)\n",
    "fgd_model = np.zeros((1, 65), np.float64)\n",
    "\n",
    "# Run GrabCut algorithm to update the mask image\n",
    "cv2.grabCut(img, mask, rect, bgd_model, fgd_model, iterCount=5, mode=cv2.GC_INIT_WITH_RECT)\n",
    "\n",
    "# Update the mask image by setting definite background and definite foreground pixels\n",
    "mask_updated = np.where((mask == 2) | (mask == 0), 0, 1).astype('uint8')\n",
    "\n",
    "# Apply the mask to the original image\n",
    "masked_img = img * mask_updated[:, :, np.newaxis]\n",
    "\n",
    "# Display the original image and the masked image\n",
    "cv2.imshow('Original Image', img)\n",
    "cv2.imshow('Masked Image', masked_img)\n",
    "cv2.waitKey(0)\n",
    "cv2.destroyAllWindows()"
   ]
  }
 ],
 "metadata": {
  "kernelspec": {
   "display_name": "Python 3",
   "language": "python",
   "name": "python3"
  },
  "language_info": {
   "codemirror_mode": {
    "name": "ipython",
    "version": 3
   },
   "file_extension": ".py",
   "mimetype": "text/x-python",
   "name": "python",
   "nbconvert_exporter": "python",
   "pygments_lexer": "ipython3",
   "version": "3.11.4"
  }
 },
 "nbformat": 4,
 "nbformat_minor": 2
}
