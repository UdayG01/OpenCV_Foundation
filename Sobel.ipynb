{
 "cells": [
  {
   "cell_type": "code",
   "execution_count": 1,
   "metadata": {},
   "outputs": [],
   "source": [
    "import cv2\n",
    "import numpy as np\n",
    "\n",
    "# Load the image\n",
    "img = cv2.imread('.\\images\\lion.jpeg')\n",
    "\n",
    "# Display the original image\n",
    "cv2.imshow('Image-Color', img)\n",
    "cv2.waitKey(0)\n",
    "cv2.destroyAllWindows()\n",
    "\n",
    "# Convert the image to grayscale\n",
    "gray = cv2.cvtColor(img, cv2.COLOR_BGR2GRAY)\n",
    "\n",
    "# Display the grayscale image\n",
    "cv2.imshow('Image-Gray', gray)\n",
    "cv2.waitKey(0)\n",
    "cv2.destroyAllWindows()\n",
    "\n",
    "# Compute the X-gradient using Sobel operator\n",
    "sobel_x = cv2.Sobel(gray, cv2.CV_64F, 1, 0, ksize=3)\n",
    "\n",
    "# Display the X-gradient image\n",
    "cv2.imshow('Image-Sobel_X', sobel_x)\n",
    "cv2.waitKey(0)\n",
    "cv2.destroyAllWindows()\n",
    "\n",
    "# Compute the Y-gradient using Sobel operator\n",
    "sobel_y = cv2.Sobel(gray, cv2.CV_64F, 0, 1, ksize=3)\n",
    "\n",
    "# Display the Y-gradient image\n",
    "cv2.imshow('Image-Sobel_Y', sobel_y)\n",
    "cv2.waitKey(0)\n",
    "cv2.destroyAllWindows()\n",
    "\n",
    "# Compute the gradient magnitude\n",
    "gradient_mag = sobel_x + sobel_y\n",
    "\n",
    "# Apply a threshold to the gradient magnitude\n",
    "gradient_mag = np.where(gradient_mag >= 300, gradient_mag, 0)\n",
    "\n",
    "# Display the gradient magnitude image\n",
    "cv2.imshow('Image-Gradient', gradient_mag)\n",
    "cv2.waitKey(0)\n",
    "cv2.destroyAllWindows()\n",
    "\n",
    "# Compute the gradient direction\n",
    "gradient_dir = np.arctan2(sobel_y, sobel_x)\n",
    "\n",
    "# Display the gradient direction image\n",
    "cv2.imshow('Image-Gradient_Direction', gradient_dir)\n",
    "cv2.waitKey(0)\n",
    "cv2.destroyAllWindows()"
   ]
  }
 ],
 "metadata": {
  "kernelspec": {
   "display_name": "Python 3",
   "language": "python",
   "name": "python3"
  },
  "language_info": {
   "codemirror_mode": {
    "name": "ipython",
    "version": 3
   },
   "file_extension": ".py",
   "mimetype": "text/x-python",
   "name": "python",
   "nbconvert_exporter": "python",
   "pygments_lexer": "ipython3",
   "version": "3.11.4"
  }
 },
 "nbformat": 4,
 "nbformat_minor": 2
}
