{
 "cells": [
  {
   "cell_type": "code",
   "execution_count": 1,
   "metadata": {},
   "outputs": [
    {
     "name": "stdout",
     "output_type": "stream",
     "text": [
      "[[[ 10  20  30]\n",
      "  [ 40  50  60]\n",
      "  [ 70  80  90]]\n",
      "\n",
      " [[ 15  25  13]\n",
      "  [  0   1   2]\n",
      "  [  3   4   5]]\n",
      "\n",
      " [[ 90 100  65]\n",
      "  [ 20  45  65]\n",
      "  [100 120  30]]]\n",
      "(3, 3, 3)\n",
      "[0 1 2]\n",
      "[[ 20  50  80]\n",
      " [ 25   1   4]\n",
      " [100  45 120]]\n",
      "[ 10  20  30  40  50  60  70  80  90  15  25  13   0   1   2   3   4   5\n",
      "  90 100  65  20  45  65 100 120  30]\n",
      "[10, 20, 30, 40, 50, 60, 70, 80, 90, 15, 25, 13, 0, 1, 2, 3, 4, 5, 90, 100, 65, 20, 45, 65, 100, 120, 30]\n",
      "[[[209  80 218]\n",
      "  [ 46 137  19]\n",
      "  [ 93   2 141]]\n",
      "\n",
      " [[250 231  38]\n",
      "  [ 98  73  10]\n",
      "  [158 163  78]]\n",
      "\n",
      " [[233 173  96]\n",
      "  [ 51 145  15]\n",
      "  [138  80 166]]]\n",
      "[[[219 100 248]\n",
      "  [ 86 187  79]\n",
      "  [163  82 231]]\n",
      "\n",
      " [[265 256  51]\n",
      "  [ 98  74  12]\n",
      "  [161 167  83]]\n",
      "\n",
      " [[323 273 161]\n",
      "  [ 71 190  80]\n",
      "  [238 200 196]]]\n"
     ]
    }
   ],
   "source": [
    "import numpy as np\n",
    "\n",
    "image = np.array([[[10, 20, 30], [40, 50, 60], [70, 80, 90]], \n",
    "                  [[15, 25, 13], [0, 1, 2], [3, 4, 5]], \n",
    "                  [[90, 100, 65], [20, 45, 65], [100, 120, 30]]])\n",
    "\n",
    "print(image)\n",
    "\n",
    "x = image.shape\n",
    "print(x)\n",
    "\n",
    "# (a)\n",
    "centre = image[1, 1, :]\n",
    "print(centre)\n",
    "\n",
    "# (b)\n",
    "greenChannel = image[:, :, 1]\n",
    "print(greenChannel)\n",
    "\n",
    "# (c)\n",
    "flatten = image.flatten()\n",
    "print(flatten)\n",
    "flatten.shape\n",
    "\n",
    "flatten = []\n",
    "for x in range(0, image.shape[0]):\n",
    "    for j in range(0, image.shape[1]):\n",
    "        for k in range(0, image.shape[2]):\n",
    "            flatten.append(image[x, j, k])\n",
    "\n",
    "print(flatten)\n",
    "\n",
    "# (d)\n",
    "newImage = np.random.randint(0, 255, size=(3, 3, 3))\n",
    "print(newImage)\n",
    "\n",
    "addArray = image + newImage\n",
    "print(addArray)"
   ]
  }
 ],
 "metadata": {
  "kernelspec": {
   "display_name": "Python 3",
   "language": "python",
   "name": "python3"
  },
  "language_info": {
   "codemirror_mode": {
    "name": "ipython",
    "version": 3
   },
   "file_extension": ".py",
   "mimetype": "text/x-python",
   "name": "python",
   "nbconvert_exporter": "python",
   "pygments_lexer": "ipython3",
   "version": "3.11.4"
  }
 },
 "nbformat": 4,
 "nbformat_minor": 2
}
